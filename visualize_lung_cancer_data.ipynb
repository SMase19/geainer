{
 "cells": [
  {
   "cell_type": "code",
   "execution_count": 1,
   "metadata": {
    "collapsed": true
   },
   "outputs": [],
   "source": [
    "import os\n",
    "import pandas as pd\n"
   ]
  },
  {
   "cell_type": "code",
   "execution_count": 2,
   "metadata": {},
   "outputs": [
    {
     "name": "stdout",
     "output_type": "stream",
     "text": [
      "(1145, 60483)\n"
     ]
    },
    {
     "data": {
      "text/html": [
       "<div>\n",
       "<style>\n",
       "    .dataframe thead tr:only-child th {\n",
       "        text-align: right;\n",
       "    }\n",
       "\n",
       "    .dataframe thead th {\n",
       "        text-align: left;\n",
       "    }\n",
       "\n",
       "    .dataframe tbody tr th {\n",
       "        vertical-align: top;\n",
       "    }\n",
       "</style>\n",
       "<table border=\"1\" class=\"dataframe\">\n",
       "  <thead>\n",
       "    <tr style=\"text-align: right;\">\n",
       "      <th></th>\n",
       "      <th>ENSG00000242268.2</th>\n",
       "      <th>ENSG00000270112.3</th>\n",
       "      <th>ENSG00000167578.15</th>\n",
       "      <th>ENSG00000273842.1</th>\n",
       "      <th>ENSG00000078237.5</th>\n",
       "      <th>ENSG00000146083.10</th>\n",
       "      <th>ENSG00000225275.4</th>\n",
       "      <th>ENSG00000158486.12</th>\n",
       "      <th>ENSG00000198242.12</th>\n",
       "      <th>ENSG00000259883.1</th>\n",
       "      <th>...</th>\n",
       "      <th>ENSG00000238244.3</th>\n",
       "      <th>ENSG00000186115.11</th>\n",
       "      <th>ENSG00000216352.1</th>\n",
       "      <th>ENSG00000267117.1</th>\n",
       "      <th>ENSG00000273233.1</th>\n",
       "      <th>ENSG00000105063.17</th>\n",
       "      <th>ENSG00000231119.2</th>\n",
       "      <th>ENSG00000280861.1</th>\n",
       "      <th>ENSG00000123685.7</th>\n",
       "      <th>ENSG00000181518.3</th>\n",
       "    </tr>\n",
       "  </thead>\n",
       "  <tbody>\n",
       "    <tr>\n",
       "      <th>TCGA-34-5234</th>\n",
       "      <td>0.000000</td>\n",
       "      <td>0.005879</td>\n",
       "      <td>4.855961</td>\n",
       "      <td>0.0</td>\n",
       "      <td>4.736896</td>\n",
       "      <td>3.26345</td>\n",
       "      <td>0.0</td>\n",
       "      <td>0.286555</td>\n",
       "      <td>180.638115</td>\n",
       "      <td>0.429204</td>\n",
       "      <td>...</td>\n",
       "      <td>0.0</td>\n",
       "      <td>0.014362</td>\n",
       "      <td>0.0</td>\n",
       "      <td>0.000000</td>\n",
       "      <td>0.035309</td>\n",
       "      <td>6.969009</td>\n",
       "      <td>0.523838</td>\n",
       "      <td>0.0</td>\n",
       "      <td>2.644622</td>\n",
       "      <td>0.0</td>\n",
       "    </tr>\n",
       "    <tr>\n",
       "      <th>TCGA-96-7544</th>\n",
       "      <td>0.019703</td>\n",
       "      <td>0.000000</td>\n",
       "      <td>2.245699</td>\n",
       "      <td>0.0</td>\n",
       "      <td>7.561602</td>\n",
       "      <td>7.62745</td>\n",
       "      <td>0.0</td>\n",
       "      <td>0.132787</td>\n",
       "      <td>136.936866</td>\n",
       "      <td>0.000000</td>\n",
       "      <td>...</td>\n",
       "      <td>0.0</td>\n",
       "      <td>0.000000</td>\n",
       "      <td>0.0</td>\n",
       "      <td>0.031722</td>\n",
       "      <td>0.032839</td>\n",
       "      <td>23.996446</td>\n",
       "      <td>0.402128</td>\n",
       "      <td>0.0</td>\n",
       "      <td>0.283604</td>\n",
       "      <td>0.0</td>\n",
       "    </tr>\n",
       "  </tbody>\n",
       "</table>\n",
       "<p>2 rows × 60483 columns</p>\n",
       "</div>"
      ],
      "text/plain": [
       "              ENSG00000242268.2  ENSG00000270112.3  ENSG00000167578.15  \\\n",
       "TCGA-34-5234           0.000000           0.005879            4.855961   \n",
       "TCGA-96-7544           0.019703           0.000000            2.245699   \n",
       "\n",
       "              ENSG00000273842.1  ENSG00000078237.5  ENSG00000146083.10  \\\n",
       "TCGA-34-5234                0.0           4.736896             3.26345   \n",
       "TCGA-96-7544                0.0           7.561602             7.62745   \n",
       "\n",
       "              ENSG00000225275.4  ENSG00000158486.12  ENSG00000198242.12  \\\n",
       "TCGA-34-5234                0.0            0.286555          180.638115   \n",
       "TCGA-96-7544                0.0            0.132787          136.936866   \n",
       "\n",
       "              ENSG00000259883.1        ...          ENSG00000238244.3  \\\n",
       "TCGA-34-5234           0.429204        ...                        0.0   \n",
       "TCGA-96-7544           0.000000        ...                        0.0   \n",
       "\n",
       "              ENSG00000186115.11  ENSG00000216352.1  ENSG00000267117.1  \\\n",
       "TCGA-34-5234            0.014362                0.0           0.000000   \n",
       "TCGA-96-7544            0.000000                0.0           0.031722   \n",
       "\n",
       "              ENSG00000273233.1  ENSG00000105063.17  ENSG00000231119.2  \\\n",
       "TCGA-34-5234           0.035309            6.969009           0.523838   \n",
       "TCGA-96-7544           0.032839           23.996446           0.402128   \n",
       "\n",
       "              ENSG00000280861.1  ENSG00000123685.7  ENSG00000181518.3  \n",
       "TCGA-34-5234                0.0           2.644622                0.0  \n",
       "TCGA-96-7544                0.0           0.283604                0.0  \n",
       "\n",
       "[2 rows x 60483 columns]"
      ]
     },
     "execution_count": 2,
     "metadata": {},
     "output_type": "execute_result"
    }
   ],
   "source": [
    "rnaseq_raw_file = os.path.join('data', 'LUNG', 'LUNG_raw_rnaseq.tsv.gz')\n",
    "rnaseq_raw_df = pd.read_table(rnaseq_raw_file, index_col=0)\n",
    "print(rnaseq_raw_df.shape)\n",
    "rnaseq_raw_df.head(2)"
   ]
  },
  {
   "cell_type": "code",
   "execution_count": 3,
   "metadata": {
    "scrolled": true
   },
   "outputs": [
    {
     "name": "stdout",
     "output_type": "stream",
     "text": [
      "(1145, 5000)\n"
     ]
    },
    {
     "data": {
      "text/html": [
       "<div>\n",
       "<style>\n",
       "    .dataframe thead tr:only-child th {\n",
       "        text-align: right;\n",
       "    }\n",
       "\n",
       "    .dataframe thead th {\n",
       "        text-align: left;\n",
       "    }\n",
       "\n",
       "    .dataframe tbody tr th {\n",
       "        vertical-align: top;\n",
       "    }\n",
       "</style>\n",
       "<table border=\"1\" class=\"dataframe\">\n",
       "  <thead>\n",
       "    <tr style=\"text-align: right;\">\n",
       "      <th></th>\n",
       "      <th>ENSG00000202198.1</th>\n",
       "      <th>ENSG00000198938.2</th>\n",
       "      <th>ENSG00000211895.4</th>\n",
       "      <th>ENSG00000087086.12</th>\n",
       "      <th>ENSG00000198712.1</th>\n",
       "      <th>ENSG00000198804.2</th>\n",
       "      <th>ENSG00000198886.2</th>\n",
       "      <th>ENSG00000274012.1</th>\n",
       "      <th>ENSG00000210082.2</th>\n",
       "      <th>ENSG00000185303.14</th>\n",
       "      <th>...</th>\n",
       "      <th>ENSG00000162236.10</th>\n",
       "      <th>ENSG00000101811.12</th>\n",
       "      <th>ENSG00000260318.1</th>\n",
       "      <th>ENSG00000217555.11</th>\n",
       "      <th>ENSG00000131650.12</th>\n",
       "      <th>ENSG00000163879.10</th>\n",
       "      <th>ENSG00000157191.18</th>\n",
       "      <th>ENSG00000133816.12</th>\n",
       "      <th>ENSG00000163812.12</th>\n",
       "      <th>ENSG00000111530.11</th>\n",
       "    </tr>\n",
       "  </thead>\n",
       "  <tbody>\n",
       "    <tr>\n",
       "      <th>TCGA-34-5234</th>\n",
       "      <td>-0.106801</td>\n",
       "      <td>-0.993166</td>\n",
       "      <td>-0.344106</td>\n",
       "      <td>1.233470</td>\n",
       "      <td>-0.980629</td>\n",
       "      <td>-1.048110</td>\n",
       "      <td>-1.152150</td>\n",
       "      <td>-0.064900</td>\n",
       "      <td>-0.602956</td>\n",
       "      <td>-0.146722</td>\n",
       "      <td>...</td>\n",
       "      <td>0.854842</td>\n",
       "      <td>-0.552692</td>\n",
       "      <td>0.885392</td>\n",
       "      <td>3.344050</td>\n",
       "      <td>-0.202246</td>\n",
       "      <td>-0.216676</td>\n",
       "      <td>3.573956</td>\n",
       "      <td>-0.390590</td>\n",
       "      <td>0.516767</td>\n",
       "      <td>-0.534007</td>\n",
       "    </tr>\n",
       "    <tr>\n",
       "      <th>TCGA-96-7544</th>\n",
       "      <td>-0.107176</td>\n",
       "      <td>-0.283473</td>\n",
       "      <td>0.026861</td>\n",
       "      <td>-0.441416</td>\n",
       "      <td>-0.506204</td>\n",
       "      <td>-0.424857</td>\n",
       "      <td>-0.095221</td>\n",
       "      <td>-0.099869</td>\n",
       "      <td>-0.332122</td>\n",
       "      <td>-0.534883</td>\n",
       "      <td>...</td>\n",
       "      <td>-0.634177</td>\n",
       "      <td>0.527858</td>\n",
       "      <td>-0.480251</td>\n",
       "      <td>-0.329059</td>\n",
       "      <td>-0.247121</td>\n",
       "      <td>-0.631930</td>\n",
       "      <td>-0.374665</td>\n",
       "      <td>-0.374988</td>\n",
       "      <td>-0.109775</td>\n",
       "      <td>0.409974</td>\n",
       "    </tr>\n",
       "  </tbody>\n",
       "</table>\n",
       "<p>2 rows × 5000 columns</p>\n",
       "</div>"
      ],
      "text/plain": [
       "              ENSG00000202198.1  ENSG00000198938.2  ENSG00000211895.4  \\\n",
       "TCGA-34-5234          -0.106801          -0.993166          -0.344106   \n",
       "TCGA-96-7544          -0.107176          -0.283473           0.026861   \n",
       "\n",
       "              ENSG00000087086.12  ENSG00000198712.1  ENSG00000198804.2  \\\n",
       "TCGA-34-5234            1.233470          -0.980629          -1.048110   \n",
       "TCGA-96-7544           -0.441416          -0.506204          -0.424857   \n",
       "\n",
       "              ENSG00000198886.2  ENSG00000274012.1  ENSG00000210082.2  \\\n",
       "TCGA-34-5234          -1.152150          -0.064900          -0.602956   \n",
       "TCGA-96-7544          -0.095221          -0.099869          -0.332122   \n",
       "\n",
       "              ENSG00000185303.14         ...          ENSG00000162236.10  \\\n",
       "TCGA-34-5234           -0.146722         ...                    0.854842   \n",
       "TCGA-96-7544           -0.534883         ...                   -0.634177   \n",
       "\n",
       "              ENSG00000101811.12  ENSG00000260318.1  ENSG00000217555.11  \\\n",
       "TCGA-34-5234           -0.552692           0.885392            3.344050   \n",
       "TCGA-96-7544            0.527858          -0.480251           -0.329059   \n",
       "\n",
       "              ENSG00000131650.12  ENSG00000163879.10  ENSG00000157191.18  \\\n",
       "TCGA-34-5234           -0.202246           -0.216676            3.573956   \n",
       "TCGA-96-7544           -0.247121           -0.631930           -0.374665   \n",
       "\n",
       "              ENSG00000133816.12  ENSG00000163812.12  ENSG00000111530.11  \n",
       "TCGA-34-5234           -0.390590            0.516767           -0.534007  \n",
       "TCGA-96-7544           -0.374988           -0.109775            0.409974  \n",
       "\n",
       "[2 rows x 5000 columns]"
      ]
     },
     "execution_count": 3,
     "metadata": {},
     "output_type": "execute_result"
    }
   ],
   "source": [
    "# 　標準化\n",
    "rnaseq_scaled_file = os.path.join('data', 'LUNG', 'LUNG_scaled_rnaseq.tsv.gz')\n",
    "rnaseq_scaled_df = pd.read_table(rnaseq_scaled_file, index_col=0)\n",
    "print(rnaseq_scaled_df.shape)\n",
    "rnaseq_scaled_df.head(2)"
   ]
  },
  {
   "cell_type": "code",
   "execution_count": 4,
   "metadata": {},
   "outputs": [
    {
     "name": "stdout",
     "output_type": "stream",
     "text": [
      "(1145, 5000)\n"
     ]
    },
    {
     "data": {
      "text/html": [
       "<div>\n",
       "<style>\n",
       "    .dataframe thead tr:only-child th {\n",
       "        text-align: right;\n",
       "    }\n",
       "\n",
       "    .dataframe thead th {\n",
       "        text-align: left;\n",
       "    }\n",
       "\n",
       "    .dataframe tbody tr th {\n",
       "        vertical-align: top;\n",
       "    }\n",
       "</style>\n",
       "<table border=\"1\" class=\"dataframe\">\n",
       "  <thead>\n",
       "    <tr style=\"text-align: right;\">\n",
       "      <th></th>\n",
       "      <th>ENSG00000202198.1</th>\n",
       "      <th>ENSG00000198938.2</th>\n",
       "      <th>ENSG00000211895.4</th>\n",
       "      <th>ENSG00000087086.12</th>\n",
       "      <th>ENSG00000198712.1</th>\n",
       "      <th>ENSG00000198804.2</th>\n",
       "      <th>ENSG00000198886.2</th>\n",
       "      <th>ENSG00000274012.1</th>\n",
       "      <th>ENSG00000210082.2</th>\n",
       "      <th>ENSG00000185303.14</th>\n",
       "      <th>...</th>\n",
       "      <th>ENSG00000162236.10</th>\n",
       "      <th>ENSG00000101811.12</th>\n",
       "      <th>ENSG00000260318.1</th>\n",
       "      <th>ENSG00000217555.11</th>\n",
       "      <th>ENSG00000131650.12</th>\n",
       "      <th>ENSG00000163879.10</th>\n",
       "      <th>ENSG00000157191.18</th>\n",
       "      <th>ENSG00000133816.12</th>\n",
       "      <th>ENSG00000163812.12</th>\n",
       "      <th>ENSG00000111530.11</th>\n",
       "    </tr>\n",
       "  </thead>\n",
       "  <tbody>\n",
       "    <tr>\n",
       "      <th>TCGA-34-5234</th>\n",
       "      <td>0.000078</td>\n",
       "      <td>0.03168</td>\n",
       "      <td>0.033488</td>\n",
       "      <td>0.230609</td>\n",
       "      <td>0.054821</td>\n",
       "      <td>0.031778</td>\n",
       "      <td>0.036926</td>\n",
       "      <td>0.00213</td>\n",
       "      <td>0.034272</td>\n",
       "      <td>0.056752</td>\n",
       "      <td>...</td>\n",
       "      <td>0.280758</td>\n",
       "      <td>0.060913</td>\n",
       "      <td>0.094145</td>\n",
       "      <td>0.409945</td>\n",
       "      <td>0.002707</td>\n",
       "      <td>0.021397</td>\n",
       "      <td>0.795200</td>\n",
       "      <td>0.072879</td>\n",
       "      <td>0.265289</td>\n",
       "      <td>0.025672</td>\n",
       "    </tr>\n",
       "    <tr>\n",
       "      <th>TCGA-96-7544</th>\n",
       "      <td>0.000062</td>\n",
       "      <td>0.11332</td>\n",
       "      <td>0.072086</td>\n",
       "      <td>0.076410</td>\n",
       "      <td>0.115259</td>\n",
       "      <td>0.091109</td>\n",
       "      <td>0.153539</td>\n",
       "      <td>0.00059</td>\n",
       "      <td>0.056711</td>\n",
       "      <td>0.002127</td>\n",
       "      <td>...</td>\n",
       "      <td>0.152263</td>\n",
       "      <td>0.123058</td>\n",
       "      <td>0.005881</td>\n",
       "      <td>0.075109</td>\n",
       "      <td>0.000353</td>\n",
       "      <td>0.001959</td>\n",
       "      <td>0.247038</td>\n",
       "      <td>0.074334</td>\n",
       "      <td>0.187097</td>\n",
       "      <td>0.069087</td>\n",
       "    </tr>\n",
       "  </tbody>\n",
       "</table>\n",
       "<p>2 rows × 5000 columns</p>\n",
       "</div>"
      ],
      "text/plain": [
       "              ENSG00000202198.1  ENSG00000198938.2  ENSG00000211895.4  \\\n",
       "TCGA-34-5234           0.000078            0.03168           0.033488   \n",
       "TCGA-96-7544           0.000062            0.11332           0.072086   \n",
       "\n",
       "              ENSG00000087086.12  ENSG00000198712.1  ENSG00000198804.2  \\\n",
       "TCGA-34-5234            0.230609           0.054821           0.031778   \n",
       "TCGA-96-7544            0.076410           0.115259           0.091109   \n",
       "\n",
       "              ENSG00000198886.2  ENSG00000274012.1  ENSG00000210082.2  \\\n",
       "TCGA-34-5234           0.036926            0.00213           0.034272   \n",
       "TCGA-96-7544           0.153539            0.00059           0.056711   \n",
       "\n",
       "              ENSG00000185303.14         ...          ENSG00000162236.10  \\\n",
       "TCGA-34-5234            0.056752         ...                    0.280758   \n",
       "TCGA-96-7544            0.002127         ...                    0.152263   \n",
       "\n",
       "              ENSG00000101811.12  ENSG00000260318.1  ENSG00000217555.11  \\\n",
       "TCGA-34-5234            0.060913           0.094145            0.409945   \n",
       "TCGA-96-7544            0.123058           0.005881            0.075109   \n",
       "\n",
       "              ENSG00000131650.12  ENSG00000163879.10  ENSG00000157191.18  \\\n",
       "TCGA-34-5234            0.002707            0.021397            0.795200   \n",
       "TCGA-96-7544            0.000353            0.001959            0.247038   \n",
       "\n",
       "              ENSG00000133816.12  ENSG00000163812.12  ENSG00000111530.11  \n",
       "TCGA-34-5234            0.072879            0.265289            0.025672  \n",
       "TCGA-96-7544            0.074334            0.187097            0.069087  \n",
       "\n",
       "[2 rows x 5000 columns]"
      ]
     },
     "execution_count": 4,
     "metadata": {},
     "output_type": "execute_result"
    }
   ],
   "source": [
    "# 正規化\n",
    "rnaseq_scaled_zeroone_file = os.path.join('data', 'LUNG', 'LUNG_scaled_zeroone_rnaseq.tsv.gz')\n",
    "rnaseq_scaled_zeroone_df = pd.read_table(rnaseq_scaled_zeroone_file, index_col=0)\n",
    "print(rnaseq_scaled_zeroone_df.shape)\n",
    "rnaseq_scaled_zeroone_df.head(2)"
   ]
  },
  {
   "cell_type": "code",
   "execution_count": 5,
   "metadata": {
    "collapsed": true
   },
   "outputs": [],
   "source": [
    "%matplotlib inline\n",
    "from sklearn import manifold\n",
    "import matplotlib.pyplot as plt\n",
    "\n",
    "tsne = manifold.TSNE(n_components=2, init='pca', random_state=0, perplexity=20,\n",
    "                     learning_rate=300, n_iter=400)"
   ]
  },
  {
   "cell_type": "code",
   "execution_count": 6,
   "metadata": {},
   "outputs": [
    {
     "name": "stdout",
     "output_type": "stream",
     "text": [
      "(1145, 2)\n"
     ]
    }
   ],
   "source": [
    "raw_tsne_out = tsne.fit_transform(rnaseq_raw_df)\n",
    "raw_tsne_out = pd.DataFrame(raw_tsne_out, columns=['1', '2'])\n",
    "raw_tsne_out.index = rnaseq_raw_df.index\n",
    "raw_tsne_out.index.name = 'tcga_uuid'\n",
    "raw_tsne_out_file = os.path.join('data', 'LUNG', 'raw_lung_tsne_features.tsv')\n",
    "raw_tsne_out.to_csv(raw_tsne_out_file, sep='\\t')\n",
    "print(raw_tsne_out.shape)"
   ]
  },
  {
   "cell_type": "code",
   "execution_count": 7,
   "metadata": {},
   "outputs": [
    {
     "data": {
      "text/plain": [
       "<matplotlib.collections.PathCollection at 0x10cff7668>"
      ]
     },
     "execution_count": 7,
     "metadata": {},
     "output_type": "execute_result"
    },
    {
     "data": {
      "image/png": "[encoded data removed]",
      "text/plain": [
       "<matplotlib.figure.Figure at 0x10cf78a58>"
      ]
     },
     "metadata": {},
     "output_type": "display_data"
    }
   ],
   "source": [
    "plt.scatter(raw_tsne_out.values[:, 0], raw_tsne_out.values[:, 1], s=5)"
   ]
  },
  {
   "cell_type": "code",
   "execution_count": 8,
   "metadata": {},
   "outputs": [
    {
     "name": "stdout",
     "output_type": "stream",
     "text": [
      "(1145, 2)\n"
     ]
    }
   ],
   "source": [
    "scaled_tsne_out = tsne.fit_transform(rnaseq_scaled_df)\n",
    "scaled_tsne_out = pd.DataFrame(scaled_tsne_out, columns=['1', '2'])\n",
    "scaled_tsne_out.index = rnaseq_scaled_df.index\n",
    "scaled_tsne_out.index.name = 'tcga_uuid'\n",
    "scaled_tsne_out_file = os.path.join('data', 'LUNG', 'scaled_lung_tsne_features.tsv')\n",
    "scaled_tsne_out.to_csv(scaled_tsne_out_file, sep='\\t')\n",
    "print(scaled_tsne_out.shape)"
   ]
  },
  {
   "cell_type": "code",
   "execution_count": 9,
   "metadata": {},
   "outputs": [
    {
     "data": {
      "text/plain": [
       "<matplotlib.collections.PathCollection at 0x10d0e2ba8>"
      ]
     },
     "execution_count": 9,
     "metadata": {},
     "output_type": "execute_result"
    },
    {
     "data": {
      "image/png": "[encoded data removed]",
      "text/plain": [
       "<matplotlib.figure.Figure at 0x10cf784a8>"
      ]
     },
     "metadata": {},
     "output_type": "display_data"
    }
   ],
   "source": [
    "plt.scatter(scaled_tsne_out.values[:, 0], scaled_tsne_out.values[:, 1], s=5)"
   ]
  },
  {
   "cell_type": "code",
   "execution_count": 10,
   "metadata": {},
   "outputs": [
    {
     "name": "stdout",
     "output_type": "stream",
     "text": [
      "(1145, 2)\n"
     ]
    }
   ],
   "source": [
    "zeroone_tsne_out = tsne.fit_transform(rnaseq_scaled_zeroone_df)\n",
    "zeroone_tsne_out = pd.DataFrame(zeroone_tsne_out, columns=['1', '2'])\n",
    "zeroone_tsne_out.index = rnaseq_scaled_zeroone_df.index\n",
    "zeroone_tsne_out.index.name = 'tcga_uuid'\n",
    "zeroone_tsne_out_file = os.path.join('data', 'LUNG', 'scaled_zeroone_lung_tsne_features.tsv')\n",
    "zeroone_tsne_out.to_csv(zeroone_tsne_out_file, sep='\\t')\n",
    "print(scaled_tsne_out.shape)"
   ]
  },
  {
   "cell_type": "code",
   "execution_count": 11,
   "metadata": {},
   "outputs": [
    {
     "data": {
      "text/plain": [
       "<matplotlib.collections.PathCollection at 0x10e2606a0>"
      ]
     },
     "execution_count": 11,
     "metadata": {},
     "output_type": "execute_result"
    },
    {
     "data": {
      "image/png": "[encoded data removed]",
      "text/plain": [
       "<matplotlib.figure.Figure at 0x10d0f74a8>"
      ]
     },
     "metadata": {},
     "output_type": "display_data"
    }
   ],
   "source": [
    "plt.scatter(zeroone_tsne_out.values[:,0], zeroone_tsne_out.values[:,1], s=5)"
   ]
  },
  {
   "cell_type": "code",
   "execution_count": 12,
   "metadata": {},
   "outputs": [
    {
     "name": "stdout",
     "output_type": "stream",
     "text": [
      "(10459, 5000)\n"
     ]
    },
    {
     "data": {
      "text/html": [
       "<div>\n",
       "<style>\n",
       "    .dataframe thead tr:only-child th {\n",
       "        text-align: right;\n",
       "    }\n",
       "\n",
       "    .dataframe thead th {\n",
       "        text-align: left;\n",
       "    }\n",
       "\n",
       "    .dataframe tbody tr th {\n",
       "        vertical-align: top;\n",
       "    }\n",
       "</style>\n",
       "<table border=\"1\" class=\"dataframe\">\n",
       "  <thead>\n",
       "    <tr style=\"text-align: right;\">\n",
       "      <th></th>\n",
       "      <th>RPS4Y1</th>\n",
       "      <th>XIST</th>\n",
       "      <th>KRT5</th>\n",
       "      <th>AGR2</th>\n",
       "      <th>CEACAM5</th>\n",
       "      <th>KRT6A</th>\n",
       "      <th>KRT14</th>\n",
       "      <th>CEACAM6</th>\n",
       "      <th>DDX3Y</th>\n",
       "      <th>KDM5D</th>\n",
       "      <th>...</th>\n",
       "      <th>FAM129A</th>\n",
       "      <th>C8orf48</th>\n",
       "      <th>CDK5R1</th>\n",
       "      <th>FAM81A</th>\n",
       "      <th>C13orf18</th>\n",
       "      <th>GDPD3</th>\n",
       "      <th>SMAGP</th>\n",
       "      <th>C2orf85</th>\n",
       "      <th>POU5F1B</th>\n",
       "      <th>CHST2</th>\n",
       "    </tr>\n",
       "  </thead>\n",
       "  <tbody>\n",
       "    <tr>\n",
       "      <th>TCGA-02-0047-01</th>\n",
       "      <td>0.678296</td>\n",
       "      <td>0.289910</td>\n",
       "      <td>0.034230</td>\n",
       "      <td>0.0</td>\n",
       "      <td>0.0</td>\n",
       "      <td>0.084731</td>\n",
       "      <td>0.031863</td>\n",
       "      <td>0.037709</td>\n",
       "      <td>0.746797</td>\n",
       "      <td>0.687833</td>\n",
       "      <td>...</td>\n",
       "      <td>0.440610</td>\n",
       "      <td>0.428782</td>\n",
       "      <td>0.732819</td>\n",
       "      <td>0.634340</td>\n",
       "      <td>0.580662</td>\n",
       "      <td>0.294313</td>\n",
       "      <td>0.458134</td>\n",
       "      <td>0.478219</td>\n",
       "      <td>0.168263</td>\n",
       "      <td>0.638497</td>\n",
       "    </tr>\n",
       "    <tr>\n",
       "      <th>TCGA-02-0055-01</th>\n",
       "      <td>0.200633</td>\n",
       "      <td>0.654917</td>\n",
       "      <td>0.181993</td>\n",
       "      <td>0.0</td>\n",
       "      <td>0.0</td>\n",
       "      <td>0.100606</td>\n",
       "      <td>0.050011</td>\n",
       "      <td>0.092586</td>\n",
       "      <td>0.103725</td>\n",
       "      <td>0.140642</td>\n",
       "      <td>...</td>\n",
       "      <td>0.620658</td>\n",
       "      <td>0.363207</td>\n",
       "      <td>0.592269</td>\n",
       "      <td>0.602755</td>\n",
       "      <td>0.610192</td>\n",
       "      <td>0.374569</td>\n",
       "      <td>0.722420</td>\n",
       "      <td>0.271356</td>\n",
       "      <td>0.160465</td>\n",
       "      <td>0.602560</td>\n",
       "    </tr>\n",
       "  </tbody>\n",
       "</table>\n",
       "<p>2 rows × 5000 columns</p>\n",
       "</div>"
      ],
      "text/plain": [
       "                   RPS4Y1      XIST      KRT5  AGR2  CEACAM5     KRT6A  \\\n",
       "TCGA-02-0047-01  0.678296  0.289910  0.034230   0.0      0.0  0.084731   \n",
       "TCGA-02-0055-01  0.200633  0.654917  0.181993   0.0      0.0  0.100606   \n",
       "\n",
       "                    KRT14   CEACAM6     DDX3Y     KDM5D    ...      FAM129A  \\\n",
       "TCGA-02-0047-01  0.031863  0.037709  0.746797  0.687833    ...     0.440610   \n",
       "TCGA-02-0055-01  0.050011  0.092586  0.103725  0.140642    ...     0.620658   \n",
       "\n",
       "                  C8orf48    CDK5R1    FAM81A  C13orf18     GDPD3     SMAGP  \\\n",
       "TCGA-02-0047-01  0.428782  0.732819  0.634340  0.580662  0.294313  0.458134   \n",
       "TCGA-02-0055-01  0.363207  0.592269  0.602755  0.610192  0.374569  0.722420   \n",
       "\n",
       "                  C2orf85   POU5F1B     CHST2  \n",
       "TCGA-02-0047-01  0.478219  0.168263  0.638497  \n",
       "TCGA-02-0055-01  0.271356  0.160465  0.602560  \n",
       "\n",
       "[2 rows x 5000 columns]"
      ]
     },
     "execution_count": 12,
     "metadata": {},
     "output_type": "execute_result"
    }
   ],
   "source": [
    "rnaseq_file = os.path.join('data', 'pancan_scaled_zeroone_rnaseq.tsv')\n",
    "rnaseq_df = pd.read_table(rnaseq_file, index_col=0)\n",
    "print(rnaseq_df.shape)\n",
    "rnaseq_df.head(2)"
   ]
  },
  {
   "cell_type": "code",
   "execution_count": 13,
   "metadata": {
    "collapsed": true
   },
   "outputs": [],
   "source": [
    "tsne = manifold.TSNE(n_components=2, init='pca', random_state=0, perplexity=20,\n",
    "                     learning_rate=300, n_iter=400)\n",
    "tsne_out = tsne.fit_transform(rnaseq_df)\n",
    "tsne_out = pd.DataFrame(tsne_out, columns=['1', '2'])\n",
    "tsne_out.index = rnaseq_df.index\n",
    "tsne_out.index.name = 'tcga_uuid'"
   ]
  },
  {
   "cell_type": "code",
   "execution_count": 41,
   "metadata": {},
   "outputs": [
    {
     "data": {
      "text/plain": [
       "<matplotlib.collections.PathCollection at 0x11e3a8390>"
      ]
     },
     "execution_count": 41,
     "metadata": {},
     "output_type": "execute_result"
    },
    {
     "data": {
      "image/png": "[encoded data removed]",
      "text/plain": [
       "<matplotlib.figure.Figure at 0x11e0e96a0>"
      ]
     },
     "metadata": {},
     "output_type": "display_data"
    }
   ],
   "source": [
    "plt.scatter(tsne_out.values[:, 0], tsne_out.values[:, 1], s=1)"
   ]
  },
  {
   "cell_type": "code",
   "execution_count": null,
   "metadata": {
    "collapsed": true
   },
   "outputs": [],
   "source": []
  }
 ],
 "metadata": {
  "kernelspec": {
   "display_name": "Python 3",
   "language": "python",
   "name": "python3"
  },
  "language_info": {
   "codemirror_mode": {
    "name": "ipython",
    "version": 3
   },
   "file_extension": ".py",
   "mimetype": "text/x-python",
   "name": "python",
   "nbconvert_exporter": "python",
   "pygments_lexer": "ipython3",
   "version": "3.6.1"
  }
 },
 "nbformat": 4,
 "nbformat_minor": 2
}
